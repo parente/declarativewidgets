{
 "cells": [
  {
   "cell_type": "markdown",
   "metadata": {},
   "source": [
    "# Declarative Widgets Walkthrough"
   ]
  },
  {
   "cell_type": "markdown",
   "metadata": {},
   "source": [
    "## Introduction"
   ]
  },
  {
   "cell_type": "markdown",
   "metadata": {},
   "source": [
    "Built on top of [IPyWidgets](https://github.com/ipython/ipywidgets) and combined with [Polymer](https://www.polymer-project.org/1.0/) and [Web Components](http://webcomponents.org/), these widgets use a declarative syntax for creating interactive areas that are usable throughout a notebook."
   ]
  },
  {
   "cell_type": "markdown",
   "metadata": {},
   "source": [
    "## Widgets"
   ]
  },
  {
   "cell_type": "markdown",
   "metadata": {},
   "source": [
    "First we need to add, import, and initialize the widget system:"
   ]
  },
  {
   "cell_type": "code",
   "execution_count": null,
   "metadata": {
    "collapsed": false
   },
   "outputs": [],
   "source": [
    "// modify to IP and Port of this notebook server\n",
    "%addjar http://localhost:8888/nbextensions/urth_widgets/urth-widgets.jar"
   ]
  },
  {
   "cell_type": "code",
   "execution_count": null,
   "metadata": {
    "collapsed": true
   },
   "outputs": [],
   "source": [
    "import urth.widgets._\n",
    "initWidgets"
   ]
  },
  {
   "cell_type": "markdown",
   "metadata": {},
   "source": [
    "Let's start by creating a \"Hello world\" function."
   ]
  },
  {
   "cell_type": "code",
   "execution_count": null,
   "metadata": {
    "collapsed": true
   },
   "outputs": [],
   "source": [
    "def greet(name: String = \"world\") = s\"Hello ${name}!\""
   ]
  },
  {
   "cell_type": "markdown",
   "metadata": {},
   "source": [
    "Next, we'll bind to this function and modify the name field to update our greeting."
   ]
  },
  {
   "cell_type": "code",
   "execution_count": null,
   "metadata": {
    "collapsed": false
   },
   "outputs": [],
   "source": [
    "%%html\n",
    "<template is=\"urth-core-bind\">\n",
    "    <urth-core-function id=\"f\" ref=\"greet\" arg-name=\"{{name}}\" result=\"{{greeting}}\"></urth-core-function>\n",
    "    <label>Name:</label> <input type=\"text\" value=\"{{name::change}}\"></input><br/>\n",
    "</template> "
   ]
  },
  {
   "cell_type": "markdown",
   "metadata": {},
   "source": [
    "Note how the default value is set based on the argument passed into the function. We pass the name of our function to the `ref` parameter, then explicitly set the arguments with the `arg-` prefix, and finally bind our output (`result`)."
   ]
  },
  {
   "cell_type": "code",
   "execution_count": null,
   "metadata": {
    "collapsed": false
   },
   "outputs": [],
   "source": [
    "%%html\n",
    "<template is=\"urth-core-bind\">\n",
    "    <button onClick=\"f.invoke()\">invoke</button><br/>\n",
    "    <span id=\"test1\">{{greeting}}</span>\n",
    "</template> "
   ]
  },
  {
   "cell_type": "markdown",
   "metadata": {},
   "source": [
    "Try changing the `Name` argument and clicking the button above to call the `greet` function. The resulting greeting updates based on the current `Name` field."
   ]
  },
  {
   "cell_type": "markdown",
   "metadata": {},
   "source": [
    "Click [here](../examples/urth-core-function.ipynb) to learn more about `<urth-core-function>`"
   ]
  },
  {
   "cell_type": "markdown",
   "metadata": {},
   "source": [
    "We can also bind to variables over independent channels."
   ]
  },
  {
   "cell_type": "code",
   "execution_count": null,
   "metadata": {
    "collapsed": false
   },
   "outputs": [],
   "source": [
    "%%html\n",
    "<template is='urth-core-bind' channel='a'>\n",
    "    <div>Hello <span id=\"test2\">{{user}}</span></div>\n",
    "    Name: <input value='{{user::input}}'></input>\n",
    "</template>"
   ]
  },
  {
   "cell_type": "code",
   "execution_count": null,
   "metadata": {
    "collapsed": false
   },
   "outputs": [],
   "source": [
    "%%html\n",
    "<template is='urth-core-bind' channel='b'>\n",
    "    <div>Hello <span id=\"test3\">{{user}}</span></div>\n",
    "    Name: <input value='{{user::input}}'></input>\n",
    "</template>"
   ]
  },
  {
   "cell_type": "markdown",
   "metadata": {},
   "source": [
    "Try modifying the `user` defined in channel `a`. This change will not impact the user defined in channel `b`."
   ]
  },
  {
   "cell_type": "markdown",
   "metadata": {},
   "source": [
    "Now to something a bit more complex. What if you want to have Scala code that reacts to changes in a value on a template. Lets start with the template below:"
   ]
  },
  {
   "cell_type": "code",
   "execution_count": null,
   "metadata": {
    "collapsed": false
   },
   "outputs": [],
   "source": [
    "%%html\n",
    "<template is='urth-core-bind' channel='c'>\n",
    "    <div>Type something <input value='{{aSomething::input}}'></input></div>\n",
    "</template>"
   ]
  },
  {
   "cell_type": "markdown",
   "metadata": {},
   "source": [
    "Now we can create a Scala function that will watch for changes to the value."
   ]
  },
  {
   "cell_type": "code",
   "execution_count": null,
   "metadata": {
    "collapsed": false
   },
   "outputs": [],
   "source": [
    "import urth.widgets.WidgetChannels.channel\n",
    "\n",
    "val on_aSomething_change = (oldVal: Option[String], newVal: String) => {\n",
    "    val msg = s\"Hello from on_aNumber_change! Got ${newVal}\"\n",
    "    channel(\"c\").set(\"message\", msg)\n",
    "}\n",
    "    \n",
    "channel(\"c\").watch(\"aSomething\", on_aSomething_change)"
   ]
  },
  {
   "cell_type": "markdown",
   "metadata": {},
   "source": [
    "Lets create a template where we can set a message."
   ]
  },
  {
   "cell_type": "code",
   "execution_count": null,
   "metadata": {
    "collapsed": false
   },
   "outputs": [],
   "source": [
    "%%html\n",
    "<template is='urth-core-bind' channel='c'>\n",
    "    <span id=\"test4\">{{message}}</span>\n",
    "</template>"
   ]
  },
  {
   "cell_type": "markdown",
   "metadata": {},
   "source": [
    "Now when you type something on the input box, it triggers the Scala function `on_aSomething_change`. This function can then also set values on the channel by using the `set` method. Notice that the template with `{{message}}` is getting updated."
   ]
  },
  {
   "cell_type": "markdown",
   "metadata": {},
   "source": [
    "Click [here](../examples/urth-core-bind.ipynb) to learn more about `<urth-core-bind>`"
   ]
  },
  {
   "cell_type": "markdown",
   "metadata": {},
   "source": [
    "Support for Spark DataFrames is provided. Below is a DataFrame with some basic contact information."
   ]
  },
  {
   "cell_type": "code",
   "execution_count": null,
   "metadata": {
    "collapsed": true
   },
   "outputs": [],
   "source": [
    "val sqlContext = new org.apache.spark.sql.SQLContext(sc)\n",
    "import sqlContext.implicits._"
   ]
  },
  {
   "cell_type": "code",
   "execution_count": null,
   "metadata": {
    "collapsed": true
   },
   "outputs": [],
   "source": [
    "case class Contact(name: String, email: String)"
   ]
  },
  {
   "cell_type": "code",
   "execution_count": null,
   "metadata": {
    "collapsed": false
   },
   "outputs": [],
   "source": [
    "val df = sqlContext.createDataFrame(Seq(\n",
    "    Contact(\"Jane Doe\", \"jane@doe.com\"), \n",
    "    Contact(\"John Doe\", \"john@doe.com\")))"
   ]
  },
  {
   "cell_type": "markdown",
   "metadata": {},
   "source": [
    "Below, we print out the contents of the DataFrame in a more readable format."
   ]
  },
  {
   "cell_type": "code",
   "execution_count": null,
   "metadata": {
    "collapsed": false
   },
   "outputs": [],
   "source": [
    "%%html\n",
    "<template is=\"urth-core-bind\">\n",
    "    <urth-core-dataframe id=\"f3\" ref=\"df\" value=\"{{contactInfo}}\" auto></urth-core-dataframe>\n",
    "    <template is=\"dom-repeat\" items=\"{{contactInfo.data}}\">\n",
    "      <div class=\"info\">\n",
    "            <span class=\"test5\">{{item.0}}</span>, <span>{{item.1}}</span>\n",
    "      </div>\n",
    "    </template>\n",
    "</template>"
   ]
  },
  {
   "cell_type": "markdown",
   "metadata": {},
   "source": [
    "By setting the `auto` keyword, the resulting output will update whenever the DataFrame is modified. Try changing which set of contact information is used."
   ]
  },
  {
   "cell_type": "code",
   "execution_count": null,
   "metadata": {
    "collapsed": false
   },
   "outputs": [],
   "source": [
    "val df = sqlContext.createDataFrame(Seq(\n",
    "        Contact(\"Richard Roe\", \"richard@roe.com\"),\n",
    "        Contact(\"Bob Murphy\", \"bob@murphy.com\")))"
   ]
  },
  {
   "cell_type": "markdown",
   "metadata": {},
   "source": [
    "Click [here](../examples/urth-core-dataframe.ipynb) to learn more about `<urth-core-dataframe>`"
   ]
  },
  {
   "cell_type": "markdown",
   "metadata": {},
   "source": [
    "We can also import web components. Below, we bring in the `paper-input` element from the [Polymer Catalog](https://elements.polymer-project.org/)."
   ]
  },
  {
   "cell_type": "code",
   "execution_count": null,
   "metadata": {
    "collapsed": false
   },
   "outputs": [],
   "source": [
    "%%html\n",
    "<link rel='import' href='urth_components/paper-input/paper-input.html' \n",
    "        is='urth-core-import' package='PolymerElements/paper-input'>\n",
    "<paper-input label=\"Input label\"></paper-input>"
   ]
  },
  {
   "cell_type": "markdown",
   "metadata": {},
   "source": [
    "Click [here](../examples/urth-core-import.ipynb) to learn more about `<urth-core-import>`"
   ]
  }
 ],
 "metadata": {
  "kernelspec": {
   "display_name": "Scala 2.10.4",
   "language": "scala",
   "name": "scala"
  },
  "language_info": {
   "name": "scala"
  }
 },
 "nbformat": 4,
 "nbformat_minor": 0
}
